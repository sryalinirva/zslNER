{
 "cells": [
  {
   "cell_type": "code",
   "execution_count": 1,
   "metadata": {},
   "outputs": [
    {
     "name": "stderr",
     "output_type": "stream",
     "text": [
      "/Users/sryali/opt/anaconda3/envs/forNLPT5/lib/python3.6/site-packages/tensorflow/python/framework/dtypes.py:526: FutureWarning: Passing (type, 1) or '1type' as a synonym of type is deprecated; in a future version of numpy, it will be understood as (type, (1,)) / '(1,)type'.\n",
      "  _np_qint8 = np.dtype([(\"qint8\", np.int8, 1)])\n",
      "/Users/sryali/opt/anaconda3/envs/forNLPT5/lib/python3.6/site-packages/tensorflow/python/framework/dtypes.py:527: FutureWarning: Passing (type, 1) or '1type' as a synonym of type is deprecated; in a future version of numpy, it will be understood as (type, (1,)) / '(1,)type'.\n",
      "  _np_quint8 = np.dtype([(\"quint8\", np.uint8, 1)])\n",
      "/Users/sryali/opt/anaconda3/envs/forNLPT5/lib/python3.6/site-packages/tensorflow/python/framework/dtypes.py:528: FutureWarning: Passing (type, 1) or '1type' as a synonym of type is deprecated; in a future version of numpy, it will be understood as (type, (1,)) / '(1,)type'.\n",
      "  _np_qint16 = np.dtype([(\"qint16\", np.int16, 1)])\n",
      "/Users/sryali/opt/anaconda3/envs/forNLPT5/lib/python3.6/site-packages/tensorflow/python/framework/dtypes.py:529: FutureWarning: Passing (type, 1) or '1type' as a synonym of type is deprecated; in a future version of numpy, it will be understood as (type, (1,)) / '(1,)type'.\n",
      "  _np_quint16 = np.dtype([(\"quint16\", np.uint16, 1)])\n",
      "/Users/sryali/opt/anaconda3/envs/forNLPT5/lib/python3.6/site-packages/tensorflow/python/framework/dtypes.py:530: FutureWarning: Passing (type, 1) or '1type' as a synonym of type is deprecated; in a future version of numpy, it will be understood as (type, (1,)) / '(1,)type'.\n",
      "  _np_qint32 = np.dtype([(\"qint32\", np.int32, 1)])\n",
      "/Users/sryali/opt/anaconda3/envs/forNLPT5/lib/python3.6/site-packages/tensorflow/python/framework/dtypes.py:535: FutureWarning: Passing (type, 1) or '1type' as a synonym of type is deprecated; in a future version of numpy, it will be understood as (type, (1,)) / '(1,)type'.\n",
      "  np_resource = np.dtype([(\"resource\", np.ubyte, 1)])\n",
      "/Users/sryali/opt/anaconda3/envs/forNLPT5/lib/python3.6/site-packages/sklearn/utils/deprecation.py:144: FutureWarning: The sklearn.feature_extraction.stop_words module is  deprecated in version 0.22 and will be removed in version 0.24. The corresponding classes / functions should instead be imported from sklearn.feature_extraction.text. Anything that cannot be imported from sklearn.feature_extraction.text is now part of the private API.\n",
      "  warnings.warn(message, FutureWarning)\n",
      "Some weights of the model checkpoint at facebook/bart-large-mnli were not used when initializing BartForSequenceClassification: ['model.encoder.version', 'model.decoder.version']\n",
      "- This IS expected if you are initializing BartForSequenceClassification from the checkpoint of a model trained on another task or with another architecture (e.g. initializing a BertForSequenceClassification model from a BertForPretraining model).\n",
      "- This IS NOT expected if you are initializing BartForSequenceClassification from the checkpoint of a model that you expect to be exactly identical (initializing a BertForSequenceClassification model from a BertForSequenceClassification model).\n"
     ]
    }
   ],
   "source": [
    "import numpy as np\n",
    "import pandas as pd\n",
    "from ner_with_zsl_scheme2_esg import *"
   ]
  },
  {
   "cell_type": "code",
   "execution_count": 2,
   "metadata": {},
   "outputs": [],
   "source": [
    "user_defined_topics = ['Environment', 'GHG Emissions', 'Air Quality','Energy Management',\n",
    "                    'Water & Wastewater Management','Waste and Hazardous Materials Management', 'Ecological Impacts', \\\n",
    "                   'Social Capital','Human Rights and Community Relations','Customer Privacy', \\\n",
    "                    'Data Security','Access and Affordability','Product Quality and Safety',\n",
    "                    'Customer Welfare', 'Selling Practices and Product Labeling', \\\n",
    "                   'Human Capital','Labor Practices','Employee Health and Safety','Employee Engagement, Diversity and Inclusion',\\\n",
    "                   'Business Model and Innovation','Product Design and Lifecycle Management', 'Business Model Resilience', \\\n",
    "                    'Supply Chain Management','Materials Sourcing and Efficiency','Physical Impacts of Climate Change',\\\n",
    "                    'Leadership and Governance','Business Ethics','Competitive Behavior', \\\n",
    "                    'Management of the Legal & Regulatory Environment','Critical Incident Risk Management', \\\n",
    "                'Systemic Risk Management']\n",
    "sub_labels = []\n",
    "domain_label = 'KPI'\n",
    "user_defined_topics = user_defined_topics + ['Safety','Incidents','diversity']"
   ]
  },
  {
   "cell_type": "code",
   "execution_count": 9,
   "metadata": {},
   "outputs": [],
   "source": [
    "text = \"Total recordable incident rate (TRIR) for seasonal and migrant employees  was close to 3% for the fiscal year 2020\"\n",
    "# text = \"Governments are investing in renewable energy sources to reduce carbondioxide emissions\"\n",
    "# text = \"Apple is investing in solar power and rainwater management to reduce carbon emissions\"\n",
    "# text = \"Did Apple report Board diversity ?\"\n",
    "# text = \"what are the carbondioxide emissions reported by Microsoft ?\"\n",
    "# text = \"Rainwater harvesting, waste water usage are part of water management practices\"\n",
    "# text = \"Percentage of refrigerants consumed with ozone-depleting potential for 2020 was 2%\"\n",
    "# text = \"Supply chain Our human rights practices are informed and guided by the Pharmaceutical Supply Chain Initiatives (PSCIs) Pharmaceutical Industry Principles for Responsible Supply Chain Management which set the standard for ethics, labor, health, safety and the environment\""
   ]
  },
  {
   "cell_type": "code",
   "execution_count": 10,
   "metadata": {},
   "outputs": [
    {
     "name": "stdout",
     "output_type": "stream",
     "text": [
      "['Incidents', 'diversity'] [0.94940913 0.76080185]\n"
     ]
    }
   ],
   "source": [
    "results = classifier(text, user_defined_topics, multi_class=True)\n",
    "scores = np.asarray(results['scores'])\n",
    "labels = np.asarray(results['labels'])\n",
    "idx = scores >= 0.7\n",
    "KPI_label = list(labels[idx])\n",
    "print(KPI_label, scores[idx])"
   ]
  },
  {
   "cell_type": "code",
   "execution_count": 11,
   "metadata": {},
   "outputs": [
    {
     "name": "stdout",
     "output_type": "stream",
     "text": [
      "Total ----> B-KPI\n",
      "recordable ----> I-KPI\n",
      "incident ----> I-KPI\n",
      "rate ----> L-KPI\n",
      "( ----> O\n",
      "TRIR ----> O\n",
      ") ----> O\n",
      "for ----> O\n",
      "seasonal ----> U-KPI\n",
      "and ----> O\n",
      "migrant ----> B-KPI\n",
      "employees ----> I-KPI\n",
      "  ----> L-KPI\n",
      "was ----> O\n",
      "close ----> U-KPI\n",
      "to ----> U-PERCENT\n",
      "3 ----> U-KPI\n",
      "% ----> U-PERCENT\n",
      "for ----> O\n",
      "the ----> B-DATE\n",
      "fiscal ----> I-DATE\n",
      "year ----> I-DATE\n",
      "2020 ----> L-DATE\n"
     ]
    }
   ],
   "source": [
    "tokens, labels = get_zsl_entities_scheme2_esg(text,user_defined_topics,sub_labels,domain_label)\n",
    "for word,label in zip(tokens,labels):\n",
    "    print(word,'---->',label)"
   ]
  },
  {
   "cell_type": "code",
   "execution_count": null,
   "metadata": {},
   "outputs": [],
   "source": []
  }
 ],
 "metadata": {
  "kernelspec": {
   "display_name": "forNLPT5",
   "language": "python",
   "name": "fornlpt5"
  },
  "language_info": {
   "codemirror_mode": {
    "name": "ipython",
    "version": 3
   },
   "file_extension": ".py",
   "mimetype": "text/x-python",
   "name": "python",
   "nbconvert_exporter": "python",
   "pygments_lexer": "ipython3",
   "version": "3.6.10"
  }
 },
 "nbformat": 4,
 "nbformat_minor": 4
}
